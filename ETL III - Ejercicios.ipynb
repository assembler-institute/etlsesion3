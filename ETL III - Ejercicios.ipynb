{
 "cells": [
  {
   "cell_type": "markdown",
   "id": "ca93c92e",
   "metadata": {},
   "source": [
    "# ETL II: Exercises\n",
    "\n",
    "## 1.- The flights data\n",
    "\n",
    "In this exercise you'll call an api, obtain some data and you'll need to store that data in an SQL database with an specific format and fields.\n",
    "\n",
    "The destination table should have the following format:\n",
    "- id -> a unique identifier for each flight (composed by the date in the format YYYYMMDD + flight number)\n",
    "- flightNumber -> with the format AA0000 (can contain nulls)\n",
    "- flightDate -> with DATE format\n",
    "- flightTime -> Departure time - HH:MM format\n",
    "- arrivalTime -> Arrival time - HH:MM\n",
    "- aircraftType -> Aicraft Model - XXXX format\n",
    "- aircraftPlate -> XXXXXX format (can contain nulls)\n",
    "- origin -> Airport code of departure - XX format\n",
    "- destination -> Airport code of arrival - XX format\n",
    "- status -> Flight stauts text format\n",
    "\n",
    "**TIP**: Before executing the code in python, you can make the requests in POSTMAN to practice.\n",
    "**Notes:**\n",
    "- API: `https://api.onairnet.xyz/assembler/etl/ej1`\n",
    "- Token Header: `oanToken`\n",
    "- Token: `ZF7xNEuLAZ5DKLQAEGVUq6VquGLQdsL7`"
   ]
  },
  {
   "cell_type": "markdown",
   "id": "6cce2c5a",
   "metadata": {},
   "source": [
    "## 2.- Spain Cities and Villages\n",
    "\n",
    "For this exercise you'll need to create a database containing data from the spain geography.\n",
    "\n",
    "For this exercise you'll need to create 3 SQL tables containing the following info:\n",
    "\n",
    "**State (comunidades autónomas)**\n",
    "- id -> Secuential numeric starting by 1001\n",
    "- countryCode -> In our case always \"ES\"\n",
    "- name -> Name of the state\n",
    "\n",
    "**Region (provincia)**\n",
    "- id -> Secuential numeric starting by 1001\n",
    "- stateID -> Id of the owner state\n",
    "- name -> Name of the region\n",
    "\n",
    "**Cities**\n",
    "- id -> Secuential numeric starting by 1001\n",
    "- regionID -> Id of the owner Region\n",
    "- Name -> Name of the city\n",
    "- Residenst -> Range of residents in the city\n",
    "\n",
    "**Notes:**\n",
    "- The data must be extracted from wikipedia performing scrapping: https://es.wikipedia.org/wiki/Anexo:Municipios_de_Espa%C3%B1a_por_poblaci%C3%B3n\n",
    "- Have in mind you must clean and standarize the data formats\n"
   ]
  }
 ],
 "metadata": {
  "kernelspec": {
   "display_name": "Python 3 (ipykernel)",
   "language": "python",
   "name": "python3"
  },
  "language_info": {
   "codemirror_mode": {
    "name": "ipython",
    "version": 3
   },
   "file_extension": ".py",
   "mimetype": "text/x-python",
   "name": "python",
   "nbconvert_exporter": "python",
   "pygments_lexer": "ipython3",
   "version": "3.9.7"
  }
 },
 "nbformat": 4,
 "nbformat_minor": 5
}
