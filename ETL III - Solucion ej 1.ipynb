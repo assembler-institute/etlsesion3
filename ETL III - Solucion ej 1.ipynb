{
 "cells": [
  {
   "cell_type": "markdown",
   "id": "4087a6c6",
   "metadata": {},
   "source": [
    "# ETL III : Soluciones\n",
    "\n",
    "## Ejercicio 1"
   ]
  },
  {
   "cell_type": "code",
   "execution_count": 1,
   "id": "c037fdc9",
   "metadata": {},
   "outputs": [],
   "source": [
    "import requests\n",
    "import pandas\n",
    "import datetime\n",
    "\n",
    "api = 'https://api.onairnet.xyz/assembler/etl/ej2'\n",
    "headers = {\"oanToken\": \"ZF7xNEuLAZ5DKLQAEGVUq6VquGLQdsL7\"}"
   ]
  },
  {
   "cell_type": "code",
   "execution_count": 2,
   "id": "7eab1161",
   "metadata": {},
   "outputs": [],
   "source": [
    "payload = requests.post(api, headers = headers)\n",
    "data = payload.json()['response']"
   ]
  },
  {
   "cell_type": "code",
   "execution_count": 4,
   "id": "cf24d992",
   "metadata": {},
   "outputs": [],
   "source": [
    "clean_data = []\n",
    "for flight in data:\n",
    "    template = {\n",
    "        \"id\": datetime.datetime.fromtimestamp(flight['time']['scheduled']['departure']).strftime('%Y%m%d')+ '_' + flight['flight']['number'],\n",
    "        \"flightNumber\": flight['flight']['number'],\n",
    "        \"flightDate\": datetime.datetime.fromtimestamp(flight['time']['scheduled']['departure']).strftime('%Y-%m-%d'),\n",
    "        \"flightTime\" : datetime.datetime.fromtimestamp(flight['time']['scheduled']['departure']).strftime('%H:%M'),\n",
    "        \"arrivalTime\" : datetime.datetime.fromtimestamp(flight['time']['scheduled']['arrival']).strftime('%H:%M'),\n",
    "        \"aircraftType\" : flight['aircraft']['type'],\n",
    "        \"aircraftPlate\" : flight['aircraft']['plate'],\n",
    "        \"origin\" : flight['origin']['code']['iata'],\n",
    "        \"destination\" : flight['destination']['code'],\n",
    "        \"status\" : flight['status']\n",
    "    }\n",
    "    \n",
    "    clean_data.append(template)"
   ]
  },
  {
   "cell_type": "markdown",
   "id": "4f87f31e",
   "metadata": {},
   "source": [
    "Posteriormente simplemente es necesario hacer un bucle on un INSERT INTO al SQL"
   ]
  }
 ],
 "metadata": {
  "kernelspec": {
   "display_name": "Python 3 (ipykernel)",
   "language": "python",
   "name": "python3"
  },
  "language_info": {
   "codemirror_mode": {
    "name": "ipython",
    "version": 3
   },
   "file_extension": ".py",
   "mimetype": "text/x-python",
   "name": "python",
   "nbconvert_exporter": "python",
   "pygments_lexer": "ipython3",
   "version": "3.9.7"
  }
 },
 "nbformat": 4,
 "nbformat_minor": 5
}
