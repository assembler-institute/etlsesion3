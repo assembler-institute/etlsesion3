{
 "cells": [
  {
   "cell_type": "code",
   "execution_count": 1,
   "id": "58caec38",
   "metadata": {},
   "outputs": [],
   "source": [
    "from urllib.request import Request, urlopen\n",
    "from bs4 import BeautifulSoup\n",
    "import pandas as pd"
   ]
  },
  {
   "cell_type": "code",
   "execution_count": 2,
   "id": "1ef96450",
   "metadata": {},
   "outputs": [],
   "source": [
    "webpage = 'https://es.wikipedia.org/wiki/Anexo:Municipios_de_Espa%C3%B1a_por_poblaci%C3%B3n'\n",
    "\n",
    "req = Request(webpage, headers={'User-Agent': 'Mozilla/5.0'})\n",
    "raw_web = urlopen(req, timeout=10).read()"
   ]
  },
  {
   "cell_type": "code",
   "execution_count": 3,
   "id": "f2b6b787",
   "metadata": {},
   "outputs": [],
   "source": [
    "soup = BeautifulSoup(raw_web, 'html.parser')\n",
    "tables = soup.find_all('table')\n",
    "titulos_tablas = soup.find_all('span', attrs={\"class\": \"mw-headline\"})"
   ]
  },
  {
   "cell_type": "code",
   "execution_count": 4,
   "id": "6b66dbab",
   "metadata": {},
   "outputs": [
    {
     "name": "stdout",
     "output_type": "stream",
     "text": [
      "Títulos de tablas:  7\n",
      "Tablas:  7\n"
     ]
    }
   ],
   "source": [
    "print('Títulos de tablas: ', len(tables))\n",
    "print('Tablas: ', len(tables))"
   ]
  },
  {
   "cell_type": "code",
   "execution_count": 5,
   "id": "510cfdee",
   "metadata": {},
   "outputs": [],
   "source": [
    "head = []\n",
    "rows_raw = []\n",
    "for table in tables:\n",
    "    \n",
    "    head = table.find_all('th') #We skip the first header as we saw we don't want it\n",
    "    table_rows = table.find_all('tr')[1:]\n",
    "    \n",
    "    for fila in table_rows:\n",
    "        cols = []\n",
    "        for col in fila.find_all('td'):\n",
    "            cols.append(col.text.strip())\n",
    "            \n",
    "        rows_raw.append(cols)\n",
    "    "
   ]
  },
  {
   "cell_type": "code",
   "execution_count": 6,
   "id": "bede4c0a",
   "metadata": {},
   "outputs": [
    {
     "data": {
      "text/plain": [
       "['1', 'Madrid', '3 305 408', 'Comunidad de Madrid\\xa0Comunidad de Madrid']"
      ]
     },
     "execution_count": 6,
     "metadata": {},
     "output_type": "execute_result"
    }
   ],
   "source": [
    "rows_raw[0]"
   ]
  },
  {
   "cell_type": "code",
   "execution_count": 7,
   "id": "4b8df5df",
   "metadata": {},
   "outputs": [
    {
     "data": {
      "text/plain": [
       "[1001, 'Madrid', 3305408, 'Comunidad de Madrid', 'Comunidad de Madrid']"
      ]
     },
     "execution_count": 7,
     "metadata": {},
     "output_type": "execute_result"
    }
   ],
   "source": [
    "#Limpieza de cada fila\n",
    "\n",
    "for row in rows_raw:\n",
    "    \n",
    "    if len(row) == 4:\n",
    "        row.append(row[3])\n",
    "        \n",
    "    row[0] = int(row[0])+1000\n",
    "    row[2] = int(\"\".join(str(row[2]).split(\" \")))\n",
    "    row[3] = row[3].split(\"\\xa0\")[0]\n",
    "    row[4] = row[4].split(\"\\xa0\")[0]\n",
    "    \n",
    "rows_raw[0]"
   ]
  },
  {
   "cell_type": "code",
   "execution_count": 8,
   "id": "b9da43a3",
   "metadata": {},
   "outputs": [],
   "source": [
    "for fila in rows_raw:\n",
    "    \n",
    "    if len(fila) != len(head):\n",
    "        print('Cols', len(fila))\n",
    "        print(fila)\n",
    "        print('---------------')"
   ]
  },
  {
   "cell_type": "code",
   "execution_count": 9,
   "id": "46ca3447",
   "metadata": {},
   "outputs": [],
   "source": [
    "all_data = pd.DataFrame(rows_raw, columns=['ID', 'City', 'Population', 'Region', 'State'])"
   ]
  },
  {
   "cell_type": "code",
   "execution_count": 10,
   "id": "2b808f10",
   "metadata": {},
   "outputs": [
    {
     "data": {
      "text/html": [
       "<div>\n",
       "<style scoped>\n",
       "    .dataframe tbody tr th:only-of-type {\n",
       "        vertical-align: middle;\n",
       "    }\n",
       "\n",
       "    .dataframe tbody tr th {\n",
       "        vertical-align: top;\n",
       "    }\n",
       "\n",
       "    .dataframe thead th {\n",
       "        text-align: right;\n",
       "    }\n",
       "</style>\n",
       "<table border=\"1\" class=\"dataframe\">\n",
       "  <thead>\n",
       "    <tr style=\"text-align: right;\">\n",
       "      <th></th>\n",
       "      <th>id</th>\n",
       "      <th>name</th>\n",
       "      <th>country</th>\n",
       "    </tr>\n",
       "  </thead>\n",
       "  <tbody>\n",
       "    <tr>\n",
       "      <th>0</th>\n",
       "      <td>1000</td>\n",
       "      <td>Comunidad de Madrid</td>\n",
       "      <td>ES</td>\n",
       "    </tr>\n",
       "    <tr>\n",
       "      <th>1</th>\n",
       "      <td>1001</td>\n",
       "      <td>Cataluña</td>\n",
       "      <td>ES</td>\n",
       "    </tr>\n",
       "    <tr>\n",
       "      <th>2</th>\n",
       "      <td>1002</td>\n",
       "      <td>Comunidad</td>\n",
       "      <td>ES</td>\n",
       "    </tr>\n",
       "    <tr>\n",
       "      <th>3</th>\n",
       "      <td>1003</td>\n",
       "      <td>Andalucía</td>\n",
       "      <td>ES</td>\n",
       "    </tr>\n",
       "    <tr>\n",
       "      <th>4</th>\n",
       "      <td>1004</td>\n",
       "      <td>Aragón</td>\n",
       "      <td>ES</td>\n",
       "    </tr>\n",
       "  </tbody>\n",
       "</table>\n",
       "</div>"
      ],
      "text/plain": [
       "     id                 name country\n",
       "0  1000  Comunidad de Madrid      ES\n",
       "1  1001             Cataluña      ES\n",
       "2  1002            Comunidad      ES\n",
       "3  1003            Andalucía      ES\n",
       "4  1004               Aragón      ES"
      ]
     },
     "execution_count": 10,
     "metadata": {},
     "output_type": "execute_result"
    }
   ],
   "source": [
    "# Generar la tabla State\n",
    "\n",
    "state_id = 1000\n",
    "states_raw = all_data['State'].drop_duplicates()\n",
    "\n",
    "states_list = []\n",
    "\n",
    "for state in states_raw:\n",
    "    \n",
    "    states_list.append({\"id\": state_id, \"name\": state, \"country\": \"ES\"})\n",
    "    \n",
    "    state_id += 1\n",
    "\n",
    "states = pd.DataFrame(states_list, columns = states_list[0].keys())\n",
    "\n",
    "states.head()"
   ]
  },
  {
   "cell_type": "code",
   "execution_count": 11,
   "id": "54fb5824",
   "metadata": {},
   "outputs": [
    {
     "data": {
      "text/html": [
       "<div>\n",
       "<style scoped>\n",
       "    .dataframe tbody tr th:only-of-type {\n",
       "        vertical-align: middle;\n",
       "    }\n",
       "\n",
       "    .dataframe tbody tr th {\n",
       "        vertical-align: top;\n",
       "    }\n",
       "\n",
       "    .dataframe thead th {\n",
       "        text-align: right;\n",
       "    }\n",
       "</style>\n",
       "<table border=\"1\" class=\"dataframe\">\n",
       "  <thead>\n",
       "    <tr style=\"text-align: right;\">\n",
       "      <th></th>\n",
       "      <th>id</th>\n",
       "      <th>stateID</th>\n",
       "      <th>name</th>\n",
       "    </tr>\n",
       "  </thead>\n",
       "  <tbody>\n",
       "    <tr>\n",
       "      <th>0</th>\n",
       "      <td>1000</td>\n",
       "      <td>1000</td>\n",
       "      <td>Comunidad de Madrid</td>\n",
       "    </tr>\n",
       "    <tr>\n",
       "      <th>1</th>\n",
       "      <td>1001</td>\n",
       "      <td>1001</td>\n",
       "      <td>Barcelona</td>\n",
       "    </tr>\n",
       "    <tr>\n",
       "      <th>2</th>\n",
       "      <td>1002</td>\n",
       "      <td>1002</td>\n",
       "      <td>Valencia</td>\n",
       "    </tr>\n",
       "    <tr>\n",
       "      <th>3</th>\n",
       "      <td>1003</td>\n",
       "      <td>1003</td>\n",
       "      <td>Sevilla</td>\n",
       "    </tr>\n",
       "    <tr>\n",
       "      <th>4</th>\n",
       "      <td>1004</td>\n",
       "      <td>1004</td>\n",
       "      <td>Zaragoza</td>\n",
       "    </tr>\n",
       "  </tbody>\n",
       "</table>\n",
       "</div>"
      ],
      "text/plain": [
       "     id  stateID                 name\n",
       "0  1000     1000  Comunidad de Madrid\n",
       "1  1001     1001            Barcelona\n",
       "2  1002     1002             Valencia\n",
       "3  1003     1003              Sevilla\n",
       "4  1004     1004             Zaragoza"
      ]
     },
     "execution_count": 11,
     "metadata": {},
     "output_type": "execute_result"
    }
   ],
   "source": [
    "# Generar la tabla region\n",
    "\n",
    "region_id = 1000\n",
    "regions_raw = all_data[['Region','State']].drop_duplicates().reset_index(drop=True)\n",
    "\n",
    "regions_list = []\n",
    "\n",
    "for i in regions_raw.index:\n",
    "    \n",
    "    region = regions_raw.iloc[i].to_dict()\n",
    "    \n",
    "    state_id = states[states['name'] == region['State']].iloc[0]['id']\n",
    "    \n",
    "    regions_list.append({\"id\":region_id, \"stateID\": state_id, \"name\": region['Region']})\n",
    "    \n",
    "    region_id += 1\n",
    "    \n",
    "regions = pd.DataFrame(regions_list, columns=regions_list[0].keys())\n",
    "\n",
    "regions.head()"
   ]
  },
  {
   "cell_type": "code",
   "execution_count": 12,
   "id": "9e8c2150",
   "metadata": {},
   "outputs": [
    {
     "data": {
      "text/html": [
       "<div>\n",
       "<style scoped>\n",
       "    .dataframe tbody tr th:only-of-type {\n",
       "        vertical-align: middle;\n",
       "    }\n",
       "\n",
       "    .dataframe tbody tr th {\n",
       "        vertical-align: top;\n",
       "    }\n",
       "\n",
       "    .dataframe thead th {\n",
       "        text-align: right;\n",
       "    }\n",
       "</style>\n",
       "<table border=\"1\" class=\"dataframe\">\n",
       "  <thead>\n",
       "    <tr style=\"text-align: right;\">\n",
       "      <th></th>\n",
       "      <th>id</th>\n",
       "      <th>regionID</th>\n",
       "      <th>name</th>\n",
       "      <th>population</th>\n",
       "    </tr>\n",
       "  </thead>\n",
       "  <tbody>\n",
       "    <tr>\n",
       "      <th>0</th>\n",
       "      <td>1001</td>\n",
       "      <td>1000</td>\n",
       "      <td>Madrid</td>\n",
       "      <td>3305408</td>\n",
       "    </tr>\n",
       "    <tr>\n",
       "      <th>1</th>\n",
       "      <td>1002</td>\n",
       "      <td>1001</td>\n",
       "      <td>Barcelona</td>\n",
       "      <td>1636732</td>\n",
       "    </tr>\n",
       "    <tr>\n",
       "      <th>2</th>\n",
       "      <td>1003</td>\n",
       "      <td>1002</td>\n",
       "      <td>Valencia</td>\n",
       "      <td>789744</td>\n",
       "    </tr>\n",
       "    <tr>\n",
       "      <th>3</th>\n",
       "      <td>1004</td>\n",
       "      <td>1003</td>\n",
       "      <td>Sevilla</td>\n",
       "      <td>684234</td>\n",
       "    </tr>\n",
       "    <tr>\n",
       "      <th>4</th>\n",
       "      <td>1005</td>\n",
       "      <td>1004</td>\n",
       "      <td>Zaragoza</td>\n",
       "      <td>675301</td>\n",
       "    </tr>\n",
       "  </tbody>\n",
       "</table>\n",
       "</div>"
      ],
      "text/plain": [
       "     id  regionID       name  population\n",
       "0  1001      1000     Madrid     3305408\n",
       "1  1002      1001  Barcelona     1636732\n",
       "2  1003      1002   Valencia      789744\n",
       "3  1004      1003    Sevilla      684234\n",
       "4  1005      1004   Zaragoza      675301"
      ]
     },
     "execution_count": 12,
     "metadata": {},
     "output_type": "execute_result"
    }
   ],
   "source": [
    "# Generar la tabla poblaciones\n",
    "\n",
    "cities_list = []\n",
    "\n",
    "for ciudad in rows_raw:\n",
    "    \n",
    "    region_id = regions[regions['name'] == ciudad[3]].iloc[0]['id']\n",
    "    \n",
    "    cities_list.append({\"id\": ciudad[0], \"regionID\": region_id, \"name\": ciudad[1], \"population\": ciudad[2]})\n",
    "    \n",
    "\n",
    "cities = pd.DataFrame(cities_list, columns=cities_list[0].keys())\n",
    "\n",
    "cities.head()"
   ]
  },
  {
   "cell_type": "markdown",
   "id": "a6fe4c49",
   "metadata": {},
   "source": [
    "Por último solo es necesario iterar sobre cada tabla con un INSERT INTO para agregar a las tablas SQL"
   ]
  }
 ],
 "metadata": {
  "kernelspec": {
   "display_name": "Python 3 (ipykernel)",
   "language": "python",
   "name": "python3"
  },
  "language_info": {
   "codemirror_mode": {
    "name": "ipython",
    "version": 3
   },
   "file_extension": ".py",
   "mimetype": "text/x-python",
   "name": "python",
   "nbconvert_exporter": "python",
   "pygments_lexer": "ipython3",
   "version": "3.9.7"
  }
 },
 "nbformat": 4,
 "nbformat_minor": 5
}
